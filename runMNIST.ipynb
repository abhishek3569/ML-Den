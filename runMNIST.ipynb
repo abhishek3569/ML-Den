{
 "cells": [
  {
   "cell_type": "markdown",
   "metadata": {},
   "source": [
    "<h1 style=\"font-size:40px;\"><center>Exercise II:<br> Convolutional Neural Networks\n",
    "</center></h1>"
   ]
  },
  {
   "cell_type": "markdown",
   "metadata": {},
   "source": [
    "## Short summary\n",
    "In this exercise you will: \n",
    "\n",
    "* Train CNNs for a binary classification problem\n",
    "* Visualize how CNN interprets the data\n",
    "* (Optional) Train a CNN to count corners in polygons\n",
    "\n",
    "In this lab we will look at network architectures that are designed to handle specific kinds of data. Convolutional Neural Networks for image processing  \n",
    "\n",
    "## The data\n",
    "Digits \"5\" and \"6\" from the MNIST database used for a binary classification problem.\n",
    "\n",
    "## The exercises\n",
    "As for the previous lab all exercises are found below.\n",
    "\n",
    "## The different 'Cells'\n",
    "This notebook contains several cells with python code, together with the markdown cells (like this one) with only text. Each of the cells with python code has a \"header\" markdown cell with information about the code. The table below provides a short overview of the code cells. \n",
    "\n",
    "| #  |  CellName | CellType | Comment |\n",
    "| :--- | :-------- | :-------- | :------- |\n",
    "| 1 | Init | Needed | Sets up the environment|\n",
    "| 2 | Data | Needed | Loading images for the CNN exercise |\n",
    "| 3 | PlotImg | Information  | View some of the images |\n",
    "| 4 | Stats | Needed | Compute classification results |\n",
    "| 5 | Ex1 | Exercise | For question 1-2 |\n",
    "| 6 | Ex2 | Exercise | For question 3 |\n",
    "\n",
    "\n",
    "In order for you to start with the exercise you need to run all cells with the CellType \"Needed\". The very first time you start with this exercise we suggest that you enter each of the needed cells, read the cell instruction and run the cell. It is important that you do this in the correct order, starting from the top and work you way down the cells. Later when you have started to work with the notebook it may be easier to use the command \"Run All\" found in the \"Cell\" dropdown menu.\n",
    "\n",
    "## Writing the report\n",
    "First the report should be written within this notebook. We have prepared the last cell in this notebook for you where you should write the report. The report should contain 4 parts:\n",
    "\n",
    "* Name:\n",
    "* Introduction: A **few** sentences where you give a small introduction of what you have done in the lab.\n",
    "* Answers to questions: For each of the questions provide an answer. It can be short answers or a longer ones depending on the nature of the questions, but try to be effective in your writing.\n",
    "* Conclusion: Summarize your findings in a few sentences.\n",
    "\n",
    "\n",
    "## Last but not least\n",
    "Have fun again!\n",
    "\n",
    "\n"
   ]
  },
  {
   "cell_type": "markdown",
   "metadata": {},
   "source": [
    "### CellName: Init (#1)\n",
    "### CellType: Needed\n",
    "### Cell instruction: Initializing the libraries\n",
    "In the cell below, we import all the libraries that are needed for this exercises. There is one configuration parameter that you can change in this cell\n",
    "\n",
    "* Inline or \"pop out\" plots.\n",
    "\n",
    "See comments in the cell for more information. Run the cell by entering into the cell and press \"CTRL Enter\".\n"
   ]
  },
  {
   "cell_type": "code",
   "execution_count": 1,
   "metadata": {},
   "outputs": [
    {
     "name": "stderr",
     "output_type": "stream",
     "text": [
      "Using TensorFlow backend.\n"
     ]
    },
    {
     "name": "stdout",
     "output_type": "stream",
     "text": [
      "[name: \"/device:CPU:0\"\n",
      "device_type: \"CPU\"\n",
      "memory_limit: 268435456\n",
      "locality {\n",
      "}\n",
      "incarnation: 7937318954047945687\n",
      "]\n"
     ]
    }
   ],
   "source": [
    "import numpy as np\n",
    "import tensorflow as tf\n",
    "import time\n",
    "import os\n",
    "os.environ[\"CUDA_VISIBLE_DEVICES\"]=\"\"\n",
    "\n",
    "import keras\n",
    "from keras.models import Model, Sequential\n",
    "from keras.layers import Dense, Dropout, Flatten, Input, Activation\n",
    "from keras.layers import Conv2D, MaxPooling2D\n",
    "from keras.layers import TimeDistributed\n",
    "from keras.layers import Lambda, concatenate\n",
    "from keras.layers import LSTM, GRU, SimpleRNN, RNN\n",
    "\n",
    "from keras.optimizers import SGD, Adam, RMSprop, Nadam\n",
    "from keras import backend as K\n",
    "\n",
    "from sklearn.metrics import *\n",
    "\n",
    "from tensorflow.python.client import device_lib\n",
    "print(device_lib.list_local_devices())\n",
    "\n",
    "# To have the plots inside the notebook \"inlin\" should be True. \n",
    "# If \"inlin\" = False, then plots will pop out of the notebook\n",
    "inlin = True # True/False\n",
    "if inlin:\n",
    "    %matplotlib inline\n",
    "else:\n",
    "    %matplotlib\n",
    "\n",
    "import matplotlib\n",
    "import matplotlib.pyplot as plt\n"
   ]
  },
  {
   "cell_type": "markdown",
   "metadata": {},
   "source": [
    "### CellName: Data (#2)\n",
    "### CellType: Needed\n",
    "### Cell instruction: Function for getting images for the CNN exercises\n",
    "\n",
    "This cell defines the functions that obtain the images needed for the CNN exercise.\n",
    "\n",
    "Run the cell by entering into the cell and press \"CTRL Enter\"."
   ]
  },
  {
   "cell_type": "code",
   "execution_count": 2,
   "metadata": {},
   "outputs": [],
   "source": [
    "def loadMNIST56():\n",
    "    xtrain, ytrain, xtest, ytest = np.load(\"mnist56.npy\")\n",
    "    width, height = xtrain.shape[1:3]\n",
    "    return xtrain, ytrain, xtest, ytest, width, height\n"
   ]
  },
  {
   "cell_type": "markdown",
   "metadata": {},
   "source": [
    "### CellName: PlotImg (#3)\n",
    "### CellType: Information\n",
    "### Cell instruction: Show some of the images\n",
    "\n",
    "Here we look at the first ten pictures in the training set, and their respective targets. You can select the dataset to look at by uncomment the correct line.\n",
    "\n",
    "Run the cell by entering into the cell and press \"CTRL Enter\"."
   ]
  },
  {
   "cell_type": "code",
   "execution_count": 3,
   "metadata": {},
   "outputs": [
    {
     "data": {
      "image/png": "[encoded data removed]",
      "text/plain": [
       "<Figure size 1080x720 with 1 Axes>"
      ]
     },
     "metadata": {},
     "output_type": "display_data"
    },
    {
     "name": "stdout",
     "output_type": "stream",
     "text": [
      "Targets:\n",
      "[0. 0. 1. 1. 1. 0. 0. 1. 1. 0.]\n"
     ]
    }
   ],
   "source": [
    "xtrain, ytrain, xtest, ytest, width, height = loadMNIST56()\n",
    "\n",
    "plt.figure(1, figsize=(15,10))\n",
    "plt.imshow(xtrain[:10,:,:].swapaxes(0,1).reshape(width,10*height),cmap=\"gray\")\n",
    "plt.axis(\"off\")\n",
    "plt.show()\n",
    "\n",
    "print(\"Targets:\")\n",
    "print(ytrain[:10])\n"
   ]
  },
  {
   "cell_type": "markdown",
   "metadata": {},
   "source": [
    "### CellName: Stats (#4)\n",
    "### CellType: Needed\n",
    "### Cell instruction: Get binary and 3-class classification results\n",
    "\n",
    "This cell just defines functions that we can call to compute som performance measures for binary and 3-class classification problems.\n",
    "\n",
    "Run the cell by entering into the cell and press \"CTRL Enter\"."
   ]
  },
  {
   "cell_type": "code",
   "execution_count": 4,
   "metadata": {},
   "outputs": [],
   "source": [
    "def binary_pred_stats(ytrue, ypred, threshold=0.5):\n",
    "    one_correct = np.sum((ytrue==1)*(ypred > threshold))\n",
    "    zero_correct = np.sum((ytrue==0)*(ypred <= threshold))\n",
    "    sensitivity = one_correct / np.sum(ytrue==1)\n",
    "    specificity = zero_correct / np.sum(ytrue==0)\n",
    "    accuracy = (one_correct + zero_correct) / len(ytrue)\n",
    "    return sensitivity, specificity, accuracy\n",
    "\n",
    "def plot_confusion_matrix(cm,\n",
    "                          target_names,\n",
    "                          title='Confusion matrix',\n",
    "                          cmap=None,\n",
    "                          normalize=True):\n",
    "    \"\"\"\n",
    "    Citiation\n",
    "    ---------\n",
    "    http://scikit-learn.org/stable/auto_examples/model_selection/plot_confusion_matrix.html\n",
    "\n",
    "    \"\"\"\n",
    "    import itertools\n",
    "\n",
    "    accuracy = np.trace(cm) / float(np.sum(cm))\n",
    "    misclass = 1 - accuracy\n",
    "\n",
    "    if cmap is None:\n",
    "        cmap = plt.get_cmap('Blues')\n",
    "\n",
    "    plt.figure(figsize=(8, 6))\n",
    "    plt.imshow(cm, interpolation='nearest', cmap=cmap)\n",
    "    plt.title(title)\n",
    "    plt.colorbar()\n",
    "\n",
    "    if target_names is not None:\n",
    "        tick_marks = np.arange(len(target_names))\n",
    "        plt.xticks(tick_marks, target_names, rotation=45)\n",
    "        plt.yticks(tick_marks, target_names)\n",
    "\n",
    "    if normalize:\n",
    "        cm = cm.astype('float') / cm.sum(axis=1)[:, np.newaxis]\n",
    "\n",
    "\n",
    "    thresh = cm.max() / 1.5 if normalize else cm.max() / 2\n",
    "    for i, j in itertools.product(range(cm.shape[0]), range(cm.shape[1])):\n",
    "        if normalize:\n",
    "            plt.text(j, i, \"{:0.4f}\".format(cm[i, j]),\n",
    "                     horizontalalignment=\"center\",\n",
    "                     color=\"white\" if cm[i, j] > thresh else \"black\")\n",
    "        else:\n",
    "            plt.text(j, i, \"{:,}\".format(cm[i, j]),\n",
    "                     horizontalalignment=\"center\",\n",
    "                     color=\"white\" if cm[i, j] > thresh else \"black\")\n",
    "\n",
    "\n",
    "    plt.tight_layout()\n",
    "    plt.ylabel('True label')\n",
    "    plt.xlabel('Predicted label\\naccuracy={:0.4f}; misclass={:0.4f}'.format(accuracy, misclass))\n",
    "    plt.show()\n",
    "    \n",
    "def multi_stat_3(model = None, x_test = None, y_test = None, lbl = None):\n",
    "    y_pred = model.predict(x_test, verbose=0 )\n",
    "    print(lbl,' log_loss:  ', log_loss(y_test, y_pred, eps=1e-15))\n",
    "\n",
    "    y_true = y_test.argmax(axis=1)\n",
    "    y_pred = y_pred.argmax(axis=1)\n",
    "    print(lbl, ' accuracy:  ',(y_pred==y_true).mean(), '\\n')\n",
    "\n",
    "    target_names = ['class {}'.format(i+1) for i in range(3)]\n",
    "\n",
    "    confuTst = confusion_matrix(y_true, y_pred)\n",
    "    plot_confusion_matrix(cm           = confuTst, \n",
    "                          normalize    = False,\n",
    "                          target_names = target_names,\n",
    "                          title        = \"Confusion Matrix: \" + lbl)\n"
   ]
  },
  {
   "cell_type": "markdown",
   "metadata": {},
   "source": [
    "### CellName: Ex1 (#5)\n",
    "### CellType: Exercise\n",
    "### Cell instruction: Instructions for question 1-2\n",
    "\n",
    "## CNN for image classification\n",
    "\n",
    "In this first exercise you are going to train a CNN that can separate between numbers \"5\" and \"6\" from the mnist dataset (mnist56 dataset). We are going to use 2000 training images and 1850 test images. To start with we have a proposed CNN that can solve this problem. It consists of the following:\n",
    "* First convolutional layer consisting of 4 kernels of size 3x3, with ReLU activation\n",
    "* Maxpooling of size 2x2\n",
    "* Second convolutional layer of 4 kernels of size 3x3, with ReLU activation\n",
    "* Maxpooling of size 2x2\n",
    "* Special layer *Flatten()*, just transforms the all of the max pooled filter outputs to a linear vector of outputs\n",
    "* *Dense* layer, meaning a fully connected MLP like layer with 10 nodes, again ReLU activation\n",
    "* Final output layer consisting of one single output node with sigmoid activation function because we have a binary classification problem.\n",
    "\n",
    "The default is to use *stride* = 1 and no *padding* for the convolutional operation. \n",
    "\n",
    "#### Question 1\n",
    "Make sure you understand the definition of the CNN model in the cell below and train it. **What is your test set performance in terms of the accuracy?**\n",
    "\n",
    "#### Question 2\n",
    "This image classification problem should be relatively easy since a \"5\" has some distict differences from a \"6\". Experiment with the architecture of the CNN model and try to make it smaller, but with the same almost perfect test accuracy. **How many parameters do you have in your trimmed model and state your architecture?**\n",
    "\n",
    "**Hint:** There is of course very many ways you can make a smaller architecture. You do not need to test all of them!\n"
   ]
  },
  {
   "cell_type": "code",
   "execution_count": 5,
   "metadata": {},
   "outputs": [
    {
     "name": "stdout",
     "output_type": "stream",
     "text": [
      "_________________________________________________________________\n",
      "Layer (type)                 Output Shape              Param #   \n",
      "=================================================================\n",
      "conv2d_1 (Conv2D)            (None, 26, 26, 4)         40        \n",
      "_________________________________________________________________\n",
      "max_pooling2d_1 (MaxPooling2 (None, 13, 13, 4)         0         \n",
      "_________________________________________________________________\n",
      "conv2d_2 (Conv2D)            (None, 11, 11, 4)         148       \n",
      "_________________________________________________________________\n",
      "max_pooling2d_2 (MaxPooling2 (None, 5, 5, 4)           0         \n",
      "_________________________________________________________________\n",
      "flatten_1 (Flatten)          (None, 100)               0         \n",
      "_________________________________________________________________\n",
      "dense_1 (Dense)              (None, 10)                1010      \n",
      "_________________________________________________________________\n",
      "dense_2 (Dense)              (None, 1)                 11        \n",
      "=================================================================\n",
      "Total params: 1,209\n",
      "Trainable params: 1,209\n",
      "Non-trainable params: 0\n",
      "_________________________________________________________________\n"
     ]
    },
    {
     "data": {
      "image/png": "[encoded data removed]",
      "text/plain": [
       "<Figure size 432x288 with 1 Axes>"
      ]
     },
     "metadata": {},
     "output_type": "display_data"
    },
    {
     "name": "stdout",
     "output_type": "stream",
     "text": [
      "train set: 1.0 1.0 1.0\n",
      "test set:  0.9906054279749478 0.9955156950672646 0.9929729729729729\n"
     ]
    }
   ],
   "source": [
    "# Load the dataset, MNIST-56\n",
    "xtrain, ytrain, xtest, ytest, width, height = loadMNIST56()\n",
    "\n",
    "# The size of the images\n",
    "input_shape = (width, height, 1)\n",
    "\n",
    "# Define the CNN model\n",
    "model = Sequential()\n",
    "\n",
    "# First conv layer\n",
    "model.add(Conv2D(4, kernel_size=(3, 3), strides=1, activation='relu', input_shape=input_shape))\n",
    "model.add(MaxPooling2D(pool_size=(2, 2), strides=2))\n",
    "\n",
    "# Second conv layer\n",
    "model.add(Conv2D(4, kernel_size=(3, 3), strides=1, activation='relu'))\n",
    "model.add(MaxPooling2D(pool_size=(2, 2), strides=2))\n",
    "\n",
    "# Fully connected MLP layers\n",
    "model.add(Flatten())\n",
    "model.add(Dense(10, activation='relu'))\n",
    "#model.add(Dropout(0.5))\n",
    "\n",
    "# Output layer\n",
    "model.add(Dense(1, activation='sigmoid'))\n",
    "\n",
    "# We use cross entropy error and the adam optimizer\n",
    "adam = Adam(lr=0.005)\n",
    "model.compile(loss='binary_crossentropy', optimizer=adam, metrics=['accuracy'])\n",
    "model.summary()\n",
    "\n",
    "# Now train the model\n",
    "estimator = model.fit(xtrain, ytrain, \n",
    "                      validation_data=(xtest, ytest),\n",
    "                      epochs=50, \n",
    "                      batch_size=50,\n",
    "                      verbose=0)\n",
    "\n",
    "# Plot the training error\n",
    "plt.plot(estimator.history['loss'])\n",
    "plt.plot(estimator.history['val_loss'])\n",
    "plt.title('Model training')\n",
    "plt.ylabel('training error')\n",
    "plt.xlabel('epoch')\n",
    "plt.legend(['train', 'test'], loc=0)\n",
    "plt.show()\n",
    "\n",
    "# Get the training predictions and results for those\n",
    "predtrain = model.predict(xtrain)[:,0]\n",
    "sensitivity, specificity, accuracy = binary_pred_stats(ytrain, predtrain)\n",
    "print(\"train set:\", sensitivity, specificity, accuracy)\n",
    "\n",
    "# Get the test predictions and the results for those\n",
    "predtest = model.predict(xtest)[:,0]\n",
    "sensitivity, specificity, accuracy = binary_pred_stats(ytest, predtest)\n",
    "print(\"test set: \", sensitivity, specificity, accuracy)\n"
   ]
  },
  {
   "cell_type": "markdown",
   "metadata": {},
   "source": [
    "### CellName: Ex2 (#6)\n",
    "### CellType: Exercise\n",
    "### Cell instruction: Instructions for question 3\n",
    "\n",
    "You are now going to take a look into the CNN model. There are many attempts to visualize how the CNN model is making classifications. We will here just look at the different filter outputs given an input image. So the code in the cell below will do the following:\n",
    "* Select an image\n",
    "* Make a forward pass through the CNN remembering all intermediate values.\n",
    "* Plot all of the filters for each of the layers.\n",
    "* One can select to plot before or after the MaxPooling.\n",
    "\n",
    "This cell relies on the fact that you have run the cell above (Ex1) so that test data has been defined and you have a trained model.\n",
    "\n",
    "#### Question 3\n",
    "Train a CNN for the \"5\" vs \"6\" problem! As a suggestion use the following CNN\n",
    "\n",
    "*3x(3x3 kernel)-maxpool-3x(3x3 kernel)-maxpool-(Flatten)-Dense(5)-Dense(1)*\n",
    "\n",
    "Make sure that your trained model gives good test results (i.e. > 95% accuracy). Having such a model, you can run the cell below. There are two parameters in the cell, *post_pool* or *idx*. The post_pool variable can be set to *True* meaning that filters will be shown after MaxPooling. The image to show is selected by the *idx* variable. As an example, the following values represent,\n",
    "* idx=1 number \"6\"\n",
    "* idx=2 numner \"5\"\n",
    "* idx=3 another number \"6\"\n",
    "* idx=5 antoher number \"5\"\n",
    "\n",
    "**Can you find some property in the filters that makes sense when it comes to separating \"5\" from \"6\"?**\n",
    "\n",
    "Hint! If you repeat the training you may get new filters!\n"
   ]
  },
  {
   "cell_type": "code",
   "execution_count": 6,
   "metadata": {
    "scrolled": false
   },
   "outputs": [
    {
     "name": "stdout",
     "output_type": "stream",
     "text": [
      "1.0\n"
     ]
    },
    {
     "data": {
      "text/plain": [
       "<Figure size 1296x864 with 0 Axes>"
      ]
     },
     "metadata": {},
     "output_type": "display_data"
    },
    {
     "data": {
      "image/png": "[encoded data removed]",
      "text/plain": [
       "<Figure size 1296x864 with 1 Axes>"
      ]
     },
     "metadata": {},
     "output_type": "display_data"
    },
    {
     "data": {
      "image/png": "[encoded data removed]",
      "text/plain": [
       "<Figure size 1296x864 with 1 Axes>"
      ]
     },
     "metadata": {},
     "output_type": "display_data"
    },
    {
     "data": {
      "image/png": "[encoded data removed]",
      "text/plain": [
       "<Figure size 1296x864 with 1 Axes>"
      ]
     },
     "metadata": {},
     "output_type": "display_data"
    }
   ],
   "source": [
    "# if True then Maxpooling will be applied before showing the filter\n",
    "post_pool = True\n",
    "\n",
    "# The image index to show\n",
    "idx = 1\n",
    "\n",
    "kind = MaxPooling2D if post_pool else Conv2D\n",
    "outs = [l.output for l in model.layers if isinstance(l, kind)]\n",
    "#outs = [model.layers[0].input] + [l.output for l in model.layers if isinstance(l, kind)]\n",
    "intermediate = K.function([model.layers[0].input, K.learning_phase()], outs)\n",
    "print(ytest[idx])\n",
    "states = [xtest[idx:idx+1]] + intermediate([xtest[idx:idx+1], 0])\n",
    "#states = intermediate([xtest[idx:idx+1], 0])\n",
    "plt.figure(figsize=(18,12))                    \n",
    "for k,s in enumerate(states):\n",
    "    plt.figure(figsize=(18,12))\n",
    "    plt.subplot(len(outs)+1,1,k+1)\n",
    "    #plt.subplot(len(outs),1,k+1)\n",
    "    pics = s[0]\n",
    "    pics = np.rollaxis(pics,2,0)\n",
    "    rows = 2 if pics.shape[0] > 8 else 1\n",
    "    cols = pics.shape[0]//rows\n",
    "    imgshape = pics.shape[1:]\n",
    "    pics = pics.reshape((rows,cols)+imgshape)\n",
    "    pics = pics.swapaxes(1,2)\n",
    "    pics = pics.reshape((pics.shape[0]*pics.shape[1], pics.shape[2]*pics.shape[3]))\n",
    "    extent = (0,cols*imgshape[0], 0,rows*imgshape[1])\n",
    "    plt.imshow(pics,cmap='gray',extent=extent)\n",
    "    for r in range(1,rows):\n",
    "        plt.plot([0,cols*imgshape[0]], [r*imgshape[1], r*imgshape[1]], color='r', linestyle='-', linewidth=1)\n",
    "    for c in range(1,cols):\n",
    "        plt.plot([c*imgshape[0], c*imgshape[0]], [0,rows*imgshape[1]], color='r', linestyle='-', linewidth=1)\n",
    "\n"
   ]
  },
  {
   "cell_type": "markdown",
   "metadata": {},
   "source": [
    "# The report!\n",
    "\n",
    "\n",
    "### Name\n",
    "\n",
    "### Introduction\n",
    "\n",
    "### Answers to questions\n",
    "\n",
    "### Summary\n",
    "  "
   ]
  }
 ],
 "metadata": {
  "kernelspec": {
   "display_name": "Python 3",
   "language": "python",
   "name": "python3"
  },
  "language_info": {
   "codemirror_mode": {
    "name": "ipython",
    "version": 3
   },
   "file_extension": ".py",
   "mimetype": "text/x-python",
   "name": "python",
   "nbconvert_exporter": "python",
   "pygments_lexer": "ipython3",
   "version": "3.5.2"
  }
 },
 "nbformat": 4,
 "nbformat_minor": 2
}
